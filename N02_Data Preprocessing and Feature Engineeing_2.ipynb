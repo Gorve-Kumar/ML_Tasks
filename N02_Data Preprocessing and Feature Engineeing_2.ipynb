{
 "cells": [
  {
   "cell_type": "markdown",
   "metadata": {},
   "source": [
    "# CATEGORICAL DATA EXERCISE"
   ]
  },
  {
   "cell_type": "markdown",
   "metadata": {},
   "source": [
    "# Imports"
   ]
  },
  {
   "cell_type": "code",
   "execution_count": null,
   "metadata": {},
   "outputs": [],
   "source": [
    "import pandas as pd"
   ]
  },
  {
   "cell_type": "markdown",
   "metadata": {},
   "source": [
    "# Problem: The Heart Dataset"
   ]
  },
  {
   "cell_type": "markdown",
   "metadata": {},
   "source": [
    "## Dataset Description\n",
    "\n",
    "File name: 'D3_Heart_Dataset.csv'\n",
    "\n",
    "This dataset has been obtained from Kaggle: https://www.kaggle.com/fedesoriano/heart-failure-prediction\n",
    "\n",
    "The data contains 918 observations with 12 attributes as described below:\n",
    "1. Age: patient's age, range: 28 to 77.\n",
    "2. Sex: patient's gender, M(79%), F(21%).\n",
    "3. ChestPainType: ASY (54%), NAP (22%), Other(24%).\n",
    "4. RestingBP: resting blood pressure, range: 0 to 200.\n",
    "5. Cholestrol: serum cholestrol, range: 0 to 603.\n",
    "6. FastingBS: fasting blood sugar, 0 or 1.\n",
    "7. RestingECG: resting electrocardiogram results, Normal (60%), LVH (20%), Other (19%).\n",
    "8. MaxHR: maximum heart rate achieved, range: 60 to 202.\n",
    "9. ExerciseAngina: exercise induced angina, true(317-40%), false (547-60%).\n",
    "10. OldPeak: old peak=ST, range: -2.6 to 6.2.\n",
    "11. ST_Slope: ST slope, Up or flat.\n",
    "12. HeartDisease: target, 1 or 0.\n",
    "\n",
    "Last column indicates presence of heart disease given the remaining 11 attributes. \n",
    "\n",
    "This is a binary classification problem.\n",
    "\n",
    "Contains categorical data, otherwise the dataset is clean."
   ]
  },
  {
   "cell_type": "markdown",
   "metadata": {},
   "source": [
    "## Loading Data"
   ]
  },
  {
   "cell_type": "code",
   "execution_count": null,
   "metadata": {},
   "outputs": [],
   "source": [
    "#Reading the file into a dataframe\n",
    "data=pd.read_csv('D3_Heart_Dataset.csv')\n",
    "#Displaying the read contents\n",
    "data"
   ]
  },
  {
   "cell_type": "markdown",
   "metadata": {},
   "source": [
    "## Exploring Data"
   ]
  },
  {
   "cell_type": "code",
   "execution_count": null,
   "metadata": {},
   "outputs": [],
   "source": [
    "#Finding datatype of data\n",
    "type(data)"
   ]
  },
  {
   "cell_type": "code",
   "execution_count": null,
   "metadata": {},
   "outputs": [],
   "source": [
    "data.info()\n",
    "#This information shows that each column has 918 entries. \n",
    "#Non of the columns contain any 'null' value.\n",
    "#There are 5 attributes with datatype of 'object'/'string'."
   ]
  },
  {
   "cell_type": "markdown",
   "metadata": {},
   "source": [
    "## Encoding Categorical Data\n",
    "\n",
    "### Consider the 'ExerciseAngina' column first and apply dummy variable encoding.\n",
    "- This is a binary variable as its presence counts towards increased risk of heart disease and absence means otherwise.\n",
    "- Can be ecoded using dummy variable encoding."
   ]
  },
  {
   "cell_type": "code",
   "execution_count": null,
   "metadata": {},
   "outputs": [],
   "source": [
    "#The following method is used to count the possible values in a column\n",
    "data['ExerciseAngina'].value_counts()\n",
    "#This shows that there are two possible values for this attribute: 'Y' or 'N'. \n",
    "#Also there are 547 entries for 'N' and 371 entries for 'Y'."
   ]
  },
  {
   "cell_type": "code",
   "execution_count": null,
   "metadata": {
    "scrolled": true
   },
   "outputs": [],
   "source": [
    "#The simplest way to encode 'ExerciseAngina' as dummy varaible is to use the replace method. \n",
    "data['ExerciseAngina']=data['ExerciseAngina'].replace('Y',1)\n",
    "data['ExerciseAngina']=data['ExerciseAngina'].replace('N',0)\n",
    "data\n",
    "#Observe that values of the column 'ExerciseAngina' have been cahnged to 0 and 1."
   ]
  },
  {
   "cell_type": "markdown",
   "metadata": {},
   "source": [
    "### Now consider the 'ChestPainType' column and apply ordinal encoding."
   ]
  },
  {
   "cell_type": "code",
   "execution_count": null,
   "metadata": {},
   "outputs": [],
   "source": [
    "data['ChestPainType'].value_counts()\n",
    "#This column contains 4 different values ASY, NAP, ATA, TA"
   ]
  },
  {
   "cell_type": "markdown",
   "metadata": {},
   "source": [
    "Let us use Ordinal encoding as follows:\n",
    "- TA (typical angina): 1\n",
    "- ATA (atypical angina): 2\n",
    "- NAP (non-anginal pain): 3\n",
    "- ASY (asymptomatic): 4"
   ]
  },
  {
   "cell_type": "code",
   "execution_count": null,
   "metadata": {},
   "outputs": [],
   "source": [
    "data['ChestPainType']=data['ChestPainType'].replace('TA',1)\n",
    "data['ChestPainType']=data['ChestPainType'].replace('ATA',2)\n",
    "data['ChestPainType']=data['ChestPainType'].replace('NAP',3)\n",
    "data['ChestPainType']=data['ChestPainType'].replace('ASY',4)\n",
    "data"
   ]
  },
  {
   "cell_type": "markdown",
   "metadata": {},
   "source": [
    "### Now consider the 'Gender' column and apply one-hot encoding."
   ]
  },
  {
   "cell_type": "code",
   "execution_count": null,
   "metadata": {},
   "outputs": [],
   "source": [
    "#get_dummies is a simple method in pandas which can achieve this task.\n",
    "pd.get_dummies(data, columns=['Gender'])\n",
    "#The resulting table has two dummy variable encoded columns Gender_F and Gender_M, in place of one column Gender"
   ]
  },
  {
   "cell_type": "code",
   "execution_count": null,
   "metadata": {},
   "outputs": [],
   "source": [
    "#All the cahnges that we have made so far are done on the dataframe, and not in the original csv file.\n",
    "#The to_csv method can be used to save the dataframe into a csv file.\n",
    "data.to_csv('D3_Heart_Dataset_Clean.csv')"
   ]
  },
  {
   "cell_type": "code",
   "execution_count": null,
   "metadata": {},
   "outputs": [],
   "source": [
    "#TASK FOR YOU\n",
    "#Try different types of encoding on the remaining categorical features."
   ]
  },
  {
   "cell_type": "code",
   "execution_count": null,
   "metadata": {},
   "outputs": [],
   "source": []
  }
 ],
 "metadata": {
  "kernelspec": {
   "display_name": "Python 3 (ipykernel)",
   "language": "python",
   "name": "python3"
  },
  "language_info": {
   "codemirror_mode": {
    "name": "ipython",
    "version": 3
   },
   "file_extension": ".py",
   "mimetype": "text/x-python",
   "name": "python",
   "nbconvert_exporter": "python",
   "pygments_lexer": "ipython3",
   "version": "3.9.7"
  }
 },
 "nbformat": 4,
 "nbformat_minor": 4
}
