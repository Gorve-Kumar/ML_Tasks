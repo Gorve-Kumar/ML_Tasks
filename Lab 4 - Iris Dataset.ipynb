{
 "cells": [
  {
   "cell_type": "code",
   "execution_count": 1,
   "metadata": {},
   "outputs": [],
   "source": [
    "from sklearn import datasets\n",
    "from sklearn.model_selection import train_test_split\n",
    "from sklearn.naive_bayes import GaussianNB\n",
    "from sklearn.naive_bayes import GaussianNB, BernoulliNB, MultinomialNB\n",
    "from sklearn.metrics import accuracy_score, precision_score, recall_score, f1_score"
   ]
  },
  {
   "cell_type": "code",
   "execution_count": 2,
   "metadata": {},
   "outputs": [
    {
     "name": "stdout",
     "output_type": "stream",
     "text": [
      "Classifer : GaussianNB()\n",
      "Accuracy: 0.9777777777777777\n",
      "Precision: 0.9761904761904763\n",
      "Recall: 0.9743589743589745\n",
      "F1 Score: 0.974320987654321\n",
      "\n",
      "Classifer : BernoulliNB()\n",
      "Accuracy: 0.28888888888888886\n",
      "Precision: 0.09629629629629628\n",
      "Recall: 0.3333333333333333\n",
      "F1 Score: 0.14942528735632185\n",
      "\n",
      "Classifer : MultinomialNB()\n",
      "Accuracy: 0.9555555555555556\n",
      "Precision: 0.9487179487179488\n",
      "Recall: 0.9487179487179488\n",
      "F1 Score: 0.9487179487179488\n",
      "\n"
     ]
    }
   ],
   "source": [
    "iris = datasets.load_iris()\n",
    "x, y = iris.data, iris.target\n",
    "\n",
    "x_train, x_test, y_train, y_test = train_test_split(x, y, test_size=0.3, random_state=42)\n",
    "\n",
    "for classifier in [GaussianNB(),BernoulliNB(),MultinomialNB()]:\n",
    "    print('Classifer : ' + str(classifier))\n",
    "    \n",
    "    classifier.fit(x_train, y_train)    \n",
    "    y_pred = classifier.predict(x_test)\n",
    "    \n",
    "    print(\"Accuracy:\",  accuracy_score(y_test, y_pred))\n",
    "    print(\"Precision:\", precision_score(y_test, y_pred, average='macro', zero_division=0))\n",
    "    print(\"Recall:\", recall_score(y_test, y_pred, average='macro'))\n",
    "    print(\"F1 Score:\", f1_score(y_test, y_pred, average='macro'))\n",
    "    print(\"\")"
   ]
  },
  {
   "cell_type": "code",
   "execution_count": 3,
   "metadata": {},
   "outputs": [
    {
     "name": "stdout",
     "output_type": "stream",
     "text": [
      "\n",
      "Evaluating with prior probabilities (0.25, 0.25, 0.5)...\n",
      "Accuracy: 0.9555555555555556\n",
      "Precision: 0.9555555555555556\n",
      "Recall: 0.9487179487179488\n",
      "F1 Score: 0.9484126984126983\n",
      "\n",
      "Evaluating with prior probabilities (0.65, 0.25, 0.1)...\n",
      "Accuracy: 1.0\n",
      "Precision: 1.0\n",
      "Recall: 1.0\n",
      "F1 Score: 1.0\n",
      "\n",
      "Evaluating with prior probabilities (0.25, 0.4, 0.35)...\n",
      "Accuracy: 0.9777777777777777\n",
      "Precision: 0.9761904761904763\n",
      "Recall: 0.9743589743589745\n",
      "F1 Score: 0.974320987654321\n"
     ]
    }
   ],
   "source": [
    "iris = datasets.load_iris()\n",
    "X = iris.data\n",
    "y = iris.target\n",
    "X_train, X_test, y_train, y_test = train_test_split(X, y, test_size=0.3, random_state=42)\n",
    "\n",
    "priors = [(0.25, 0.25, 0.50), (0.65, 0.25,0.10), (0.25, 0.4, 0.35)]\n",
    "for prior in priors:\n",
    "    prior_name = str(prior)\n",
    "    print(f\"\\nEvaluating with prior probabilities {prior_name}...\")\n",
    "\n",
    "    model = GaussianNB(priors=prior)\n",
    "    model.fit(X_train, y_train)\n",
    "    y_pred = model.predict(X_test)\n",
    "    \n",
    "    accuracy = accuracy_score(y_test, y_pred)\n",
    "    precision = precision_score(y_test, y_pred, average='macro')\n",
    "    recall = recall_score(y_test, y_pred, average='macro')\n",
    "    f1 = f1_score(y_test, y_pred, average='macro')\n",
    "    print(\"Accuracy:\", accuracy)\n",
    "    print(\"Precision:\", precision)\n",
    "    print(\"Recall:\", recall)\n",
    "    print(\"F1 Score:\", f1)"
   ]
  },
  {
   "cell_type": "code",
   "execution_count": null,
   "metadata": {},
   "outputs": [],
   "source": []
  }
 ],
 "metadata": {
  "colab": {
   "provenance": []
  },
  "kernelspec": {
   "display_name": "Python 3 (ipykernel)",
   "language": "python",
   "name": "python3"
  },
  "language_info": {
   "codemirror_mode": {
    "name": "ipython",
    "version": 3
   },
   "file_extension": ".py",
   "mimetype": "text/x-python",
   "name": "python",
   "nbconvert_exporter": "python",
   "pygments_lexer": "ipython3",
   "version": "3.9.7"
  }
 },
 "nbformat": 4,
 "nbformat_minor": 1
}
