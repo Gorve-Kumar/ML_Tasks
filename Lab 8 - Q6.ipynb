{
 "cells": [
  {
   "cell_type": "code",
   "execution_count": 2,
   "id": "654349b1",
   "metadata": {},
   "outputs": [],
   "source": [
    "import numpy as np\n",
    "import pandas as pd\n",
    "import mglearn\n",
    "from sklearn.model_selection import train_test_split\n",
    "from sklearn.tree import DecisionTreeRegressor\n",
    "from sklearn.metrics import r2_score"
   ]
  },
  {
   "cell_type": "code",
   "execution_count": 3,
   "id": "73d3f4c0",
   "metadata": {},
   "outputs": [],
   "source": [
    "x, y = mglearn.datasets.load_extended_boston()\n",
    "x_train, x_test, y_train, y_test = train_test_split(x, y, test_size=0.4, random_state=42)"
   ]
  },
  {
   "cell_type": "code",
   "execution_count": 4,
   "id": "a72fdd25",
   "metadata": {},
   "outputs": [
    {
     "name": "stdout",
     "output_type": "stream",
     "text": [
      "Tree Depth 3\n",
      "Mean Relative Error (Depth 3):  17.77\n",
      "\n",
      "Tree Depth 4\n",
      "Mean Relative Error (Depth 4):  15.55\n",
      "\n",
      "Tree Depth 5\n",
      "Mean Relative Error (Depth 5):  13.28\n"
     ]
    }
   ],
   "source": [
    "print(\"Tree Depth 3\")\n",
    "decisiontree = DecisionTreeRegressor(max_depth=3, random_state=0)\n",
    "model = decisiontree.fit(x_train, y_train)\n",
    "y_pred = model.predict(x_test)\n",
    "print(\"Mean Relative Error (Depth 3): \", round(np.mean(np.abs((y_test-y_pred)/y_test))*100,2))\n",
    "\n",
    "print(\"\\nTree Depth 4\")\n",
    "decisiontree = DecisionTreeRegressor(max_depth=4, random_state=0)\n",
    "model = decisiontree.fit(x_train, y_train)\n",
    "y_pred = model.predict(x_test)\n",
    "print(\"Mean Relative Error (Depth 4): \", round(np.mean(np.abs((y_test-y_pred)/y_test))*100,2))\n",
    "\n",
    "print(\"\\nTree Depth 5\")\n",
    "decisiontree = DecisionTreeRegressor(max_depth=5, random_state=0)\n",
    "model = decisiontree.fit(x_train, y_train)\n",
    "y_pred = model.predict(x_test)\n",
    "print(\"Mean Relative Error (Depth 5): \", round(np.mean(np.abs((y_test-y_pred)/y_test))*100,2))"
   ]
  },
  {
   "cell_type": "code",
   "execution_count": null,
   "id": "5d25c9ae",
   "metadata": {},
   "outputs": [],
   "source": []
  }
 ],
 "metadata": {
  "kernelspec": {
   "display_name": "Python 3 (ipykernel)",
   "language": "python",
   "name": "python3"
  },
  "language_info": {
   "codemirror_mode": {
    "name": "ipython",
    "version": 3
   },
   "file_extension": ".py",
   "mimetype": "text/x-python",
   "name": "python",
   "nbconvert_exporter": "python",
   "pygments_lexer": "ipython3",
   "version": "3.9.7"
  }
 },
 "nbformat": 4,
 "nbformat_minor": 5
}
