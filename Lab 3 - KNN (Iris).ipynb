{
 "cells": [
  {
   "cell_type": "code",
   "execution_count": 1,
   "metadata": {},
   "outputs": [],
   "source": [
    "import numpy as np\n",
    "import matplotlib.pyplot as plt\n",
    "import pandas as pd"
   ]
  },
  {
   "cell_type": "code",
   "execution_count": 2,
   "metadata": {},
   "outputs": [],
   "source": [
    "url = \"https://archive.ics.uci.edu/ml/machine-learning-databases/iris/iris.data\""
   ]
  },
  {
   "cell_type": "code",
   "execution_count": 3,
   "metadata": {},
   "outputs": [],
   "source": [
    "dataset = pd.read_csv(url, names = ['sepal-length', 'sepal-width', 'petal-length', 'petal-width', 'Class'])"
   ]
  },
  {
   "cell_type": "code",
   "execution_count": 4,
   "metadata": {},
   "outputs": [
    {
     "data": {
      "text/html": [
       "<div>\n",
       "<style scoped>\n",
       "    .dataframe tbody tr th:only-of-type {\n",
       "        vertical-align: middle;\n",
       "    }\n",
       "\n",
       "    .dataframe tbody tr th {\n",
       "        vertical-align: top;\n",
       "    }\n",
       "\n",
       "    .dataframe thead th {\n",
       "        text-align: right;\n",
       "    }\n",
       "</style>\n",
       "<table border=\"1\" class=\"dataframe\">\n",
       "  <thead>\n",
       "    <tr style=\"text-align: right;\">\n",
       "      <th></th>\n",
       "      <th>sepal-length</th>\n",
       "      <th>sepal-width</th>\n",
       "      <th>petal-length</th>\n",
       "      <th>petal-width</th>\n",
       "      <th>Class</th>\n",
       "    </tr>\n",
       "  </thead>\n",
       "  <tbody>\n",
       "    <tr>\n",
       "      <th>0</th>\n",
       "      <td>5.1</td>\n",
       "      <td>3.5</td>\n",
       "      <td>1.4</td>\n",
       "      <td>0.2</td>\n",
       "      <td>Iris-setosa</td>\n",
       "    </tr>\n",
       "    <tr>\n",
       "      <th>1</th>\n",
       "      <td>4.9</td>\n",
       "      <td>3.0</td>\n",
       "      <td>1.4</td>\n",
       "      <td>0.2</td>\n",
       "      <td>Iris-setosa</td>\n",
       "    </tr>\n",
       "    <tr>\n",
       "      <th>2</th>\n",
       "      <td>4.7</td>\n",
       "      <td>3.2</td>\n",
       "      <td>1.3</td>\n",
       "      <td>0.2</td>\n",
       "      <td>Iris-setosa</td>\n",
       "    </tr>\n",
       "    <tr>\n",
       "      <th>3</th>\n",
       "      <td>4.6</td>\n",
       "      <td>3.1</td>\n",
       "      <td>1.5</td>\n",
       "      <td>0.2</td>\n",
       "      <td>Iris-setosa</td>\n",
       "    </tr>\n",
       "    <tr>\n",
       "      <th>4</th>\n",
       "      <td>5.0</td>\n",
       "      <td>3.6</td>\n",
       "      <td>1.4</td>\n",
       "      <td>0.2</td>\n",
       "      <td>Iris-setosa</td>\n",
       "    </tr>\n",
       "  </tbody>\n",
       "</table>\n",
       "</div>"
      ],
      "text/plain": [
       "   sepal-length  sepal-width  petal-length  petal-width        Class\n",
       "0           5.1          3.5           1.4          0.2  Iris-setosa\n",
       "1           4.9          3.0           1.4          0.2  Iris-setosa\n",
       "2           4.7          3.2           1.3          0.2  Iris-setosa\n",
       "3           4.6          3.1           1.5          0.2  Iris-setosa\n",
       "4           5.0          3.6           1.4          0.2  Iris-setosa"
      ]
     },
     "execution_count": 4,
     "metadata": {},
     "output_type": "execute_result"
    }
   ],
   "source": [
    "dataset.head()"
   ]
  },
  {
   "cell_type": "code",
   "execution_count": 5,
   "metadata": {},
   "outputs": [],
   "source": [
    "X = dataset.iloc[:, :-1].values\n",
    "y = dataset.iloc[:, 4].values\n",
    "\n",
    "#or \n",
    "#x = dataset.drop(\"class\",axis=1)\n",
    "#y = dataset[\"class\"]"
   ]
  },
  {
   "cell_type": "code",
   "execution_count": 6,
   "metadata": {},
   "outputs": [],
   "source": [
    "from sklearn.model_selection import train_test_split\n",
    "X_train, X_test, y_train, y_test = train_test_split(X, y, test_size=0.20)\n"
   ]
  },
  {
   "cell_type": "code",
   "execution_count": 7,
   "metadata": {},
   "outputs": [],
   "source": [
    "from sklearn.preprocessing import StandardScaler\n",
    "scaler = StandardScaler()\n",
    "scaler.fit(X_train)\n",
    "\n",
    "X_train = scaler.transform(X_train)\n",
    "X_test = scaler.transform(X_test)"
   ]
  },
  {
   "cell_type": "code",
   "execution_count": 8,
   "metadata": {},
   "outputs": [
    {
     "data": {
      "text/plain": [
       "array([[-1.13288393, -1.30981399,  0.44173437,  0.68119413],\n",
       "       [ 1.16105511,  0.3372575 ,  1.23459093,  1.46971467],\n",
       "       [ 1.16105511, -0.13333436,  1.00806048,  1.20687449],\n",
       "       [ 0.55738694, -1.78040585,  0.38510176,  0.15551377],\n",
       "       [-0.40848213, -1.07451807,  0.38510176,  0.02409368],\n",
       "       [-0.40848213,  2.69021676, -1.31387658, -1.29010722],\n",
       "       [ 0.07445241,  0.3372575 ,  0.6116322 ,  0.81261422],\n",
       "       [-1.25361756, -0.13333436, -1.31387658, -1.42152731],\n",
       "       [-0.04628123, -0.83922214,  0.78153004,  0.94403431],\n",
       "       [ 1.04032147,  0.57255342,  1.1213257 ,  1.73255485],\n",
       "       [ 1.04032147, -1.30981399,  1.17795832,  0.81261422],\n",
       "       [ 1.76472327, -0.36863029,  1.46112137,  0.81261422],\n",
       "       [-1.13288393, -1.54510992, -0.23785697, -0.2387465 ],\n",
       "       [-1.13288393, -0.13333436, -1.31387658, -1.29010722],\n",
       "       [ 0.55738694, -0.83922214,  0.66826481,  0.81261422],\n",
       "       [ 0.67812057,  0.10196157,  1.00806048,  0.81261422],\n",
       "       [-0.89141666,  1.74903306, -1.03071353, -1.02726704],\n",
       "       [-0.16701486, -0.60392621,  0.44173437,  0.15551377],\n",
       "       [ 0.55738694, -1.30981399,  0.66826481,  0.41835395],\n",
       "       [ 0.31591967, -0.36863029,  0.55499959,  0.28693386],\n",
       "       [ 2.24765781, -0.13333436,  1.34785615,  1.46971467],\n",
       "       [ 0.43665331, -2.01570177,  0.44173437,  0.41835395],\n",
       "       [-0.89141666,  1.74903306, -1.20061136, -1.29010722],\n",
       "       [-0.77068303,  0.80784935, -1.31387658, -1.29010722],\n",
       "       [-0.04628123, -0.60392621,  0.78153004,  1.60113476],\n",
       "       [ 0.79885421,  0.3372575 ,  0.78153004,  1.0754544 ],\n",
       "       [-0.52921576,  1.51373713, -1.25724397, -1.29010722],\n",
       "       [ 0.31591967, -0.60392621,  0.15857131,  0.15551377],\n",
       "       [-1.85728573, -0.13333436, -1.48377442, -1.42152731],\n",
       "       [-1.25361756,  0.80784935, -1.03071353, -1.29010722],\n",
       "       [ 0.67812057, -0.83922214,  0.89479526,  0.94403431],\n",
       "       [-1.01215029,  0.3372575 , -1.42714181, -1.29010722],\n",
       "       [ 0.55738694, -0.36863029,  1.06469309,  0.81261422],\n",
       "       [-1.13288393,  0.10196157, -1.25724397, -1.42152731],\n",
       "       [ 0.19518604, -2.01570177,  0.15857131, -0.2387465 ],\n",
       "       [-1.61581846, -1.78040585, -1.37050919, -1.15868713],\n",
       "       [ 0.19518604, -0.13333436,  0.6116322 ,  0.81261422],\n",
       "       [ 1.16105511, -0.60392621,  0.6116322 ,  0.28693386],\n",
       "       [ 0.55738694, -0.60392621,  0.78153004,  0.41835395],\n",
       "       [ 0.43665331, -0.36863029,  0.32846915,  0.15551377],\n",
       "       [ 0.31591967, -0.13333436,  0.49836698,  0.28693386],\n",
       "       [ 0.91958784, -0.13333436,  0.38510176,  0.28693386],\n",
       "       [ 0.79885421, -0.13333436,  1.17795832,  1.33829458],\n",
       "       [-1.49508483,  0.3372575 , -1.31387658, -1.29010722],\n",
       "       [ 0.55738694,  0.57255342,  1.29122354,  1.73255485],\n",
       "       [-0.40848213, -1.30981399,  0.15857131,  0.15551377],\n",
       "       [-0.52921576, -0.13333436,  0.44173437,  0.41835395],\n",
       "       [-1.01215029,  0.57255342, -1.31387658, -1.29010722],\n",
       "       [-1.49508483,  1.2784412 , -1.54040703, -1.29010722],\n",
       "       [-1.73655209, -0.13333436, -1.37050919, -1.29010722],\n",
       "       [ 1.04032147, -0.13333436,  0.72489743,  0.68119413],\n",
       "       [-1.49508483,  0.10196157, -1.25724397, -1.29010722],\n",
       "       [-0.40848213,  1.04314528, -1.37050919, -1.29010722],\n",
       "       [-0.64994939,  1.51373713, -1.25724397, -1.29010722],\n",
       "       [-0.28774849, -1.30981399,  0.1019387 , -0.10732641],\n",
       "       [-0.52921576,  1.98432898, -1.14397875, -1.02726704],\n",
       "       [-0.16701486, -1.30981399,  0.72489743,  1.0754544 ],\n",
       "       [ 1.40252237,  0.3372575 ,  0.55499959,  0.28693386],\n",
       "       [ 2.12692417, -0.13333436,  1.63101921,  1.20687449],\n",
       "       [ 0.31591967, -1.07451807,  1.06469309,  0.28693386],\n",
       "       [-0.16701486, -0.13333436,  0.27183653,  0.02409368],\n",
       "       [ 0.79885421, -0.60392621,  0.49836698,  0.41835395],\n",
       "       [ 2.24765781, -0.60392621,  1.68765182,  1.0754544 ],\n",
       "       [-0.16701486,  1.74903306, -1.14397875, -1.15868713],\n",
       "       [-1.49508483,  0.80784935, -1.31387658, -1.15868713],\n",
       "       [ 1.04032147, -0.13333436,  0.83816265,  1.46971467],\n",
       "       [-0.28774849, -0.13333436,  0.21520392,  0.15551377],\n",
       "       [-0.40848213, -1.78040585,  0.15857131,  0.15551377],\n",
       "       [-1.25361756, -0.13333436, -1.31387658, -1.15868713],\n",
       "       [-0.77068303, -0.83922214,  0.1019387 ,  0.28693386],\n",
       "       [ 0.79885421, -0.13333436,  0.83816265,  1.0754544 ],\n",
       "       [-1.25361756,  0.80784935, -1.20061136, -1.29010722],\n",
       "       [ 2.24765781, -1.07451807,  1.80091704,  1.46971467],\n",
       "       [-0.40848213, -1.54510992,  0.04530609, -0.10732641],\n",
       "       [ 1.28178874,  0.10196157,  0.66826481,  0.41835395],\n",
       "       [ 0.67812057, -0.60392621,  1.06469309,  1.33829458],\n",
       "       [-0.52921576,  1.98432898, -1.37050919, -1.02726704],\n",
       "       [-0.40848213, -1.54510992, -0.01132652, -0.2387465 ],\n",
       "       [-0.28774849, -0.36863029, -0.06795913,  0.15551377],\n",
       "       [-1.37435119,  0.3372575 , -1.37050919, -1.29010722],\n",
       "       [-0.89141666, -1.30981399, -0.4077548 , -0.10732641],\n",
       "       [-0.28774849, -0.60392621,  0.66826481,  1.0754544 ],\n",
       "       [ 0.31591967, -0.13333436,  0.66826481,  0.81261422],\n",
       "       [ 1.64398964,  1.2784412 ,  1.34785615,  1.73255485],\n",
       "       [-0.89141666,  1.04314528, -1.31387658, -1.29010722],\n",
       "       [ 1.04032147,  0.10196157,  0.55499959,  0.41835395],\n",
       "       [-0.77068303,  1.04314528, -1.25724397, -1.29010722],\n",
       "       [ 0.67812057,  0.3372575 ,  0.44173437,  0.41835395],\n",
       "       [-0.52921576,  0.80784935, -1.14397875, -1.29010722],\n",
       "       [-0.04628123,  2.21962491, -1.42714181, -1.29010722],\n",
       "       [-1.01215029,  1.2784412 , -1.31387658, -1.29010722],\n",
       "       [ 1.04032147,  0.57255342,  1.1213257 ,  1.20687449],\n",
       "       [-1.01215029,  1.04314528, -1.20061136, -0.76442686],\n",
       "       [ 0.55738694,  0.57255342,  0.55499959,  0.54977404],\n",
       "       [-0.04628123, -1.07451807,  0.15857131,  0.02409368],\n",
       "       [ 2.24765781,  1.74903306,  1.68765182,  1.33829458],\n",
       "       [ 0.19518604, -0.36863029,  0.44173437,  0.41835395],\n",
       "       [-0.89141666,  0.80784935, -1.25724397, -1.29010722],\n",
       "       [ 1.04032147,  0.10196157,  1.06469309,  1.60113476],\n",
       "       [ 0.67812057, -0.36863029,  0.32846915,  0.15551377],\n",
       "       [-1.01215029, -0.13333436, -1.20061136, -1.29010722],\n",
       "       [-0.89141666,  1.74903306, -1.25724397, -1.15868713],\n",
       "       [ 0.19518604,  0.80784935,  0.44173437,  0.54977404],\n",
       "       [ 0.55738694,  0.80784935,  1.06469309,  1.60113476],\n",
       "       [ 1.04032147,  0.10196157,  0.38510176,  0.28693386],\n",
       "       [-1.01215029,  0.80784935, -1.25724397, -1.29010722],\n",
       "       [ 1.88545691, -0.60392621,  1.34785615,  0.94403431],\n",
       "       [-0.16701486, -0.36863029,  0.27183653,  0.15551377],\n",
       "       [ 0.91958784, -0.36863029,  0.49836698,  0.15551377],\n",
       "       [-1.73655209,  0.3372575 , -1.37050919, -1.29010722],\n",
       "       [ 1.28178874,  0.10196157,  0.95142787,  1.20687449],\n",
       "       [ 0.55738694, -1.30981399,  0.72489743,  0.94403431],\n",
       "       [ 0.07445241, -0.13333436,  0.27183653,  0.41835395],\n",
       "       [-1.25361756,  0.10196157, -1.20061136, -1.29010722],\n",
       "       [-1.01215029, -1.78040585, -0.23785697, -0.2387465 ],\n",
       "       [-0.52921576,  0.80784935, -1.25724397, -1.02726704],\n",
       "       [-0.77068303,  2.45492084, -1.25724397, -1.42152731],\n",
       "       [-0.89141666,  0.57255342, -1.14397875, -0.89584695],\n",
       "       [ 1.64398964,  0.3372575 ,  1.29122354,  0.81261422],\n",
       "       [-0.28774849, -0.83922214,  0.27183653,  0.15551377]])"
      ]
     },
     "execution_count": 8,
     "metadata": {},
     "output_type": "execute_result"
    }
   ],
   "source": [
    "X_train"
   ]
  },
  {
   "cell_type": "code",
   "execution_count": 9,
   "metadata": {},
   "outputs": [
    {
     "data": {
      "text/plain": [
       "KNeighborsClassifier()"
      ]
     },
     "execution_count": 9,
     "metadata": {},
     "output_type": "execute_result"
    }
   ],
   "source": [
    "from sklearn.neighbors import KNeighborsClassifier\n",
    "classifier = KNeighborsClassifier(n_neighbors=5)\n",
    "classifier.fit(X_train, y_train)"
   ]
  },
  {
   "cell_type": "code",
   "execution_count": 10,
   "metadata": {},
   "outputs": [],
   "source": [
    "y_pred = classifier.predict(X_test)"
   ]
  },
  {
   "cell_type": "code",
   "execution_count": 11,
   "metadata": {},
   "outputs": [
    {
     "name": "stdout",
     "output_type": "stream",
     "text": [
      "[[ 9  0  0]\n",
      " [ 0  7  1]\n",
      " [ 0  1 12]]\n",
      "93.33333333333333\n"
     ]
    }
   ],
   "source": [
    "from sklearn.metrics import classification_report, confusion_matrix\n",
    "print(confusion_matrix(y_test, y_pred))\n",
    "\n",
    "from sklearn import metrics\n",
    "print(metrics.accuracy_score(y_test,y_pred)*100)"
   ]
  },
  {
   "cell_type": "code",
   "execution_count": 12,
   "metadata": {},
   "outputs": [
    {
     "name": "stdout",
     "output_type": "stream",
     "text": [
      "                 precision    recall  f1-score   support\n",
      "\n",
      "    Iris-setosa       1.00      1.00      1.00         9\n",
      "Iris-versicolor       0.88      0.88      0.88         8\n",
      " Iris-virginica       0.92      0.92      0.92        13\n",
      "\n",
      "       accuracy                           0.93        30\n",
      "      macro avg       0.93      0.93      0.93        30\n",
      "   weighted avg       0.93      0.93      0.93        30\n",
      "\n"
     ]
    }
   ],
   "source": [
    "print(classification_report(y_test, y_pred))"
   ]
  },
  {
   "cell_type": "code",
   "execution_count": 13,
   "metadata": {},
   "outputs": [],
   "source": [
    "error = []\n",
    "\n",
    "# Calculating error for K values between 1 and 40\n",
    "for i in range(1, 40):\n",
    "    knn = KNeighborsClassifier(n_neighbors=i)\n",
    "    knn.fit(X_train, y_train)\n",
    "    pred_i = knn.predict(X_test)\n",
    "    error.append(np.mean(pred_i != y_test))"
   ]
  },
  {
   "cell_type": "code",
   "execution_count": 14,
   "metadata": {},
   "outputs": [
    {
     "data": {
      "text/plain": [
       "Text(0, 0.5, 'Mean Error')"
      ]
     },
     "execution_count": 14,
     "metadata": {},
     "output_type": "execute_result"
    },
    {
     "data": {
      "image/png": "[encoded data removed]",
      "text/plain": [
       "<Figure size 864x432 with 1 Axes>"
      ]
     },
     "metadata": {
      "needs_background": "light"
     },
     "output_type": "display_data"
    }
   ],
   "source": [
    "plt.figure(figsize=(12, 6))\n",
    "plt.plot(range(1, 40), error, color='red', linestyle='dashed', marker='o',\n",
    "         markerfacecolor='blue', markersize=10)\n",
    "plt.title('Error Rate K Value')\n",
    "plt.xlabel('K Value')\n",
    "plt.ylabel('Mean Error')"
   ]
  },
  {
   "cell_type": "code",
   "execution_count": null,
   "metadata": {},
   "outputs": [],
   "source": []
  }
 ],
 "metadata": {
  "kernelspec": {
   "display_name": "Python 3 (ipykernel)",
   "language": "python",
   "name": "python3"
  },
  "language_info": {
   "codemirror_mode": {
    "name": "ipython",
    "version": 3
   },
   "file_extension": ".py",
   "mimetype": "text/x-python",
   "name": "python",
   "nbconvert_exporter": "python",
   "pygments_lexer": "ipython3",
   "version": "3.9.7"
  }
 },
 "nbformat": 4,
 "nbformat_minor": 2
}
