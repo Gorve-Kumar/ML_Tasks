{
 "cells": [
  {
   "cell_type": "code",
   "execution_count": 2,
   "id": "654349b1",
   "metadata": {},
   "outputs": [],
   "source": [
    "from sklearn.datasets import load_iris, load_wine\n",
    "from sklearn.model_selection import train_test_split\n",
    "from sklearn.tree import DecisionTreeClassifier\n",
    "from sklearn.metrics import accuracy_score, recall_score, precision_score, f1_score, roc_auc_score, roc_curve"
   ]
  },
  {
   "cell_type": "code",
   "execution_count": 3,
   "id": "5d25c9ae",
   "metadata": {},
   "outputs": [
    {
     "name": "stdout",
     "output_type": "stream",
     "text": [
      "Iris Dataset:\n",
      "Accuracy: 100.0\n",
      "Recall: 100.0\n",
      "Precision: 100.0\n",
      "F1 Score: 100.0\n",
      "ROC AUC: 100.0\n",
      "\n",
      "Wine Dataset:\n",
      "Accuracy: 94.44444444444444\n",
      "Recall: 94.44444444444444\n",
      "Precision: 94.62962962962962\n",
      "F1 Score: 94.39974457215837\n",
      "ROC AUC: 95.21103896103897\n",
      "\n"
     ]
    }
   ],
   "source": [
    "for dataset_name, dataset in [(\"Iris\", load_iris()), (\"Wine\", load_wine())]:\n",
    "    x = dataset.data\n",
    "    y = dataset.target\n",
    "    x_train, x_test, y_train, y_test = train_test_split(x, y, test_size=0.2, random_state=42)\n",
    "\n",
    "    # Train the decision tree classifier\n",
    "    dt_classifier = DecisionTreeClassifier()\n",
    "    dt_classifier.fit(x_train, y_train)\n",
    "    y_pred = dt_classifier.predict(x_test)  # Make predictions on the test set\n",
    "    y_prob = dt_classifier.predict_proba(x_test)\n",
    "\n",
    "    print(dataset_name, \"Dataset:\")\n",
    "    print(\"Accuracy:\", accuracy_score(y_test, y_pred)*100)\n",
    "    print(\"Recall:\", recall_score(y_test, y_pred, average='weighted')*100)\n",
    "    print(\"Precision:\", precision_score(y_test, y_pred, average='weighted')*100)\n",
    "    print(\"F1 Score:\", f1_score(y_test, y_pred, average='weighted')*100)\n",
    "    print(\"ROC AUC:\", roc_auc_score(y_test, y_prob, multi_class='ovr')*100)\n",
    "    print(\"\")"
   ]
  },
  {
   "cell_type": "code",
   "execution_count": 4,
   "id": "e084a407",
   "metadata": {},
   "outputs": [
    {
     "name": "stdout",
     "output_type": "stream",
     "text": [
      "Iris Dataset - Tree Depth: None\n",
      "Training Accuracy: 100.0\n",
      "Testing Accuracy: 100.0\n",
      "\n",
      "Iris Dataset - Tree Depth: 3\n",
      "Training Accuracy: 95.83333333333334\n",
      "Testing Accuracy: 100.0\n",
      "\n",
      "Iris Dataset - Tree Depth: 4\n",
      "Training Accuracy: 97.5\n",
      "Testing Accuracy: 100.0\n",
      "\n",
      "Iris Dataset - Tree Depth: 5\n",
      "Training Accuracy: 99.16666666666667\n",
      "Testing Accuracy: 100.0\n",
      "\n",
      "Wine Dataset - Tree Depth: None\n",
      "Training Accuracy: 100.0\n",
      "Testing Accuracy: 94.44444444444444\n",
      "\n",
      "Wine Dataset - Tree Depth: 3\n",
      "Training Accuracy: 99.29577464788733\n",
      "Testing Accuracy: 94.44444444444444\n",
      "\n",
      "Wine Dataset - Tree Depth: 4\n",
      "Training Accuracy: 100.0\n",
      "Testing Accuracy: 94.44444444444444\n",
      "\n",
      "Wine Dataset - Tree Depth: 5\n",
      "Training Accuracy: 100.0\n",
      "Testing Accuracy: 94.44444444444444\n",
      "\n"
     ]
    }
   ],
   "source": [
    "for dataset_name, dataset in [(\"Iris\", load_iris()), (\"Wine\", load_wine())]:\n",
    "    x = dataset.data\n",
    "    y = dataset.target\n",
    "    x_train, x_test, y_train, y_test = train_test_split(x, y, test_size=0.2, random_state=42)\n",
    "\n",
    "    # Train and evaluate decision tree classifiers with different depths\n",
    "    depths = [None, 3, 4, 5]\n",
    "    for depth in depths:\n",
    "        dt_classifier = DecisionTreeClassifier(max_depth=depth)\n",
    "        dt_classifier.fit(x_train, y_train)\n",
    "\n",
    "        y_train_pred = dt_classifier.predict(x_train)\n",
    "        y_test_pred = dt_classifier.predict(x_test)\n",
    "\n",
    "        print(f\"{dataset_name} Dataset - Tree Depth: {depth}\")\n",
    "        print(\"Training Accuracy:\", accuracy_score(y_train, y_train_pred)*100)\n",
    "        print(\"Testing Accuracy:\", accuracy_score(y_test, y_test_pred)*100)\n",
    "        print()"
   ]
  },
  {
   "cell_type": "code",
   "execution_count": null,
   "id": "e99216ce",
   "metadata": {},
   "outputs": [],
   "source": []
  }
 ],
 "metadata": {
  "kernelspec": {
   "display_name": "Python 3 (ipykernel)",
   "language": "python",
   "name": "python3"
  },
  "language_info": {
   "codemirror_mode": {
    "name": "ipython",
    "version": 3
   },
   "file_extension": ".py",
   "mimetype": "text/x-python",
   "name": "python",
   "nbconvert_exporter": "python",
   "pygments_lexer": "ipython3",
   "version": "3.9.7"
  }
 },
 "nbformat": 4,
 "nbformat_minor": 5
}
