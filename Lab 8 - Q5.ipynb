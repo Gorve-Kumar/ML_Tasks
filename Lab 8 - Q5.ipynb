{
 "cells": [
  {
   "cell_type": "code",
   "execution_count": 2,
   "id": "654349b1",
   "metadata": {},
   "outputs": [],
   "source": [
    "import numpy as np\n",
    "import pandas as pd\n",
    "import mglearn\n",
    "from sklearn.model_selection import train_test_split\n",
    "from sklearn.linear_model import LinearRegression\n",
    "from sklearn.tree import DecisionTreeRegressor\n",
    "from sklearn.metrics import r2_score"
   ]
  },
  {
   "cell_type": "code",
   "execution_count": 3,
   "id": "73d3f4c0",
   "metadata": {},
   "outputs": [],
   "source": [
    "x, y = mglearn.datasets.load_extended_boston()\n",
    "x_train, x_test, y_train, y_test = train_test_split(x, y, test_size=0.4, random_state=42)"
   ]
  },
  {
   "cell_type": "code",
   "execution_count": 4,
   "id": "6e449d3a",
   "metadata": {},
   "outputs": [
    {
     "name": "stdout",
     "output_type": "stream",
     "text": [
      "R2 score: 0.72\n",
      "Mean Relative Error (%): 15.97\n"
     ]
    }
   ],
   "source": [
    "model = LinearRegression()\n",
    "model.fit(x_train, y_train)\n",
    "y_pred = model.predict(x_test)\n",
    "print(\"R2 score:\", round(r2_score(y_test, y_pred),2))\n",
    "print(\"Mean Relative Error (%):\", round(np.mean(np.abs((y_test-y_pred)/y_test))*100,2))"
   ]
  },
  {
   "cell_type": "code",
   "execution_count": 5,
   "id": "a72fdd25",
   "metadata": {},
   "outputs": [
    {
     "name": "stdout",
     "output_type": "stream",
     "text": [
      "R2 score: 0.81\n",
      "Mean Relative Error (%): 13.68\n"
     ]
    }
   ],
   "source": [
    "decisiontree = DecisionTreeRegressor(random_state=0)\n",
    "model = decisiontree.fit(x_train, y_train)\n",
    "y_pred = model.predict(x_test)\n",
    "print(\"R2 score:\", round(r2_score(y_test, y_pred),2))\n",
    "print(\"Mean Relative Error (%):\", round(np.mean(np.abs((y_test-y_pred)/y_test))*100,2))"
   ]
  },
  {
   "cell_type": "code",
   "execution_count": 6,
   "id": "78055651",
   "metadata": {},
   "outputs": [],
   "source": [
    "x, y = mglearn.datasets.make_wave(n_samples=100)\n",
    "x_train, x_test, y_train, y_test = train_test_split(x, y, test_size=0.4, random_state=42)"
   ]
  },
  {
   "cell_type": "code",
   "execution_count": 7,
   "id": "21f069d7",
   "metadata": {},
   "outputs": [
    {
     "name": "stdout",
     "output_type": "stream",
     "text": [
      "R2 score: 0.65\n",
      "Mean Relative Error (%): 90.95\n"
     ]
    }
   ],
   "source": [
    "model = LinearRegression()\n",
    "model.fit(x_train, y_train)\n",
    "y_pred = model.predict(x_test)\n",
    "print(\"R2 score:\", round(r2_score(y_test, y_pred),2))\n",
    "print(\"Mean Relative Error (%):\", round(np.mean(np.abs((y_test-y_pred)/y_test))*100,2))"
   ]
  },
  {
   "cell_type": "code",
   "execution_count": 8,
   "id": "242c23d6",
   "metadata": {},
   "outputs": [
    {
     "name": "stdout",
     "output_type": "stream",
     "text": [
      "R2 score: 0.78\n",
      "Mean Relative Error (%): 80.78\n"
     ]
    }
   ],
   "source": [
    "decisiontree = DecisionTreeRegressor(random_state=0)\n",
    "model = decisiontree.fit(x_train, y_train)\n",
    "y_pred = model.predict(x_test)\n",
    "\n",
    "print(\"R2 score:\", round(r2_score(y_test, y_pred),2))\n",
    "print(\"Mean Relative Error (%):\", round(np.mean(np.abs((y_test-y_pred)/y_test))*100,2))"
   ]
  },
  {
   "cell_type": "code",
   "execution_count": 9,
   "id": "0ee296a5",
   "metadata": {},
   "outputs": [],
   "source": [
    "dataset = pd.read_csv(\"ram_price.csv\")\n",
    "x = dataset[\"date\"]\n",
    "y = dataset[\"price\"]\n",
    "x_train, x_test, y_train, y_test = train_test_split(x, y, test_size=0.3, random_state=42)\n",
    "x_train = np.array(x_train).reshape(-1, 1)\n",
    "x_test = np.array(x_test).reshape(-1, 1)"
   ]
  },
  {
   "cell_type": "code",
   "execution_count": 10,
   "id": "af70c968",
   "metadata": {},
   "outputs": [
    {
     "name": "stdout",
     "output_type": "stream",
     "text": [
      "R2 score: 0.05\n",
      "Mean Relative Error (%): 15.89\n"
     ]
    }
   ],
   "source": [
    "decisiontree = DecisionTreeRegressor(random_state=0)\n",
    "model = decisiontree.fit(x_train, y_train)\n",
    "y_pred = model.predict(x_test)\n",
    "\n",
    "print(\"R2 score:\", round(r2_score(y_test, y_pred),2))\n",
    "print(\"Mean Relative Error (%):\", round(np.mean(np.abs((y_test-y_pred)/y_test))*100,2))"
   ]
  },
  {
   "cell_type": "code",
   "execution_count": null,
   "id": "5e4cc0d9",
   "metadata": {},
   "outputs": [],
   "source": []
  }
 ],
 "metadata": {
  "kernelspec": {
   "display_name": "Python 3 (ipykernel)",
   "language": "python",
   "name": "python3"
  },
  "language_info": {
   "codemirror_mode": {
    "name": "ipython",
    "version": 3
   },
   "file_extension": ".py",
   "mimetype": "text/x-python",
   "name": "python",
   "nbconvert_exporter": "python",
   "pygments_lexer": "ipython3",
   "version": "3.9.7"
  }
 },
 "nbformat": 4,
 "nbformat_minor": 5
}
