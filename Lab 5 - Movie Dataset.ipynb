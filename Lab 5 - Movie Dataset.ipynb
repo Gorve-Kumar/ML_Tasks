{
 "cells": [
  {
   "cell_type": "code",
   "execution_count": 1,
   "id": "9815766b",
   "metadata": {},
   "outputs": [],
   "source": [
    "import numpy as np\n",
    "import pandas as pd\n",
    "\n",
    "data=pd.read_csv('D1_Movie_Revenue_Dataset_Clean.csv')\n",
    "x = data.drop(\"Worldwide_Gross\", axis=1)\n",
    "y = data[\"Worldwide_Gross\"]\n",
    "\n",
    "from sklearn.model_selection import train_test_split\n",
    "x_train, x_test, y_train, y_test = train_test_split(x,y, random_state=0)"
   ]
  },
  {
   "cell_type": "code",
   "execution_count": 4,
   "id": "266b79ca",
   "metadata": {},
   "outputs": [
    {
     "name": "stdout",
     "output_type": "stream",
     "text": [
      "R2 score: 0.49\n",
      "Mean Relative Error: 114.8\n"
     ]
    }
   ],
   "source": [
    "# LinearRegression:\n",
    "from sklearn.linear_model import LinearRegression\n",
    "lr = LinearRegression()\n",
    "lr.fit(x_train, y_train)\n",
    "y_pred = lr.predict(x_test)\n",
    "\n",
    "from sklearn.metrics import r2_score\n",
    "print(\"R2 score:\", round(r2_score(y_test, y_pred),2))\n",
    "print(\"Mean Relative Error:\", round(np.mean(np.abs((y_test-y_pred)/y_test)),2))"
   ]
  },
  {
   "cell_type": "code",
   "execution_count": 5,
   "id": "c38f1175",
   "metadata": {},
   "outputs": [
    {
     "name": "stdout",
     "output_type": "stream",
     "text": [
      "R2 score: 0.36\n",
      "Mean Relative Error: 70.91\n"
     ]
    }
   ],
   "source": [
    "# KNeighborsRegressor:\n",
    "from sklearn.neighbors import KNeighborsRegressor\n",
    "knn = KNeighborsRegressor(n_neighbors=5)\n",
    "knn.fit(x_train, y_train)\n",
    "y_pred = knn.predict(x_test)\n",
    "\n",
    "from sklearn.metrics import r2_score\n",
    "print(\"R2 score:\", round(r2_score(y_test, y_pred),2))\n",
    "print(\"Mean Relative Error:\", round(np.mean(np.abs((y_test-y_pred)/y_test)),2))"
   ]
  },
  {
   "cell_type": "code",
   "execution_count": null,
   "id": "2b0c1f30",
   "metadata": {},
   "outputs": [],
   "source": []
  }
 ],
 "metadata": {
  "kernelspec": {
   "display_name": "Python 3 (ipykernel)",
   "language": "python",
   "name": "python3"
  },
  "language_info": {
   "codemirror_mode": {
    "name": "ipython",
    "version": 3
   },
   "file_extension": ".py",
   "mimetype": "text/x-python",
   "name": "python",
   "nbconvert_exporter": "python",
   "pygments_lexer": "ipython3",
   "version": "3.9.7"
  }
 },
 "nbformat": 4,
 "nbformat_minor": 5
}
