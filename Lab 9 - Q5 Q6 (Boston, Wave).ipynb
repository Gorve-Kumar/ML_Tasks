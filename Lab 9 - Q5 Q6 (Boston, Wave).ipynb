{
 "cells": [
  {
   "cell_type": "markdown",
   "id": "3db5a99b",
   "metadata": {},
   "source": [
    "# FINAL EVALUATION"
   ]
  },
  {
   "cell_type": "code",
   "execution_count": 1,
   "id": "f25e58e9",
   "metadata": {},
   "outputs": [],
   "source": [
    "import numpy as np\n",
    "import pandas as pd\n",
    "import mglearn\n",
    "from sklearn import svm\n",
    "from sklearn.model_selection import train_test_split\n",
    "from sklearn.metrics import r2_score"
   ]
  },
  {
   "cell_type": "code",
   "execution_count": 2,
   "id": "d0f6264d",
   "metadata": {},
   "outputs": [
    {
     "name": "stdout",
     "output_type": "stream",
     "text": [
      "Tuning: C = 0.1, gamma = 0.1\n",
      "R2 score               :  23.56 %\n",
      "Mean Relative Error (%):  25.44 %\n",
      "Tuning: C = 0.1, gamma = 1.0\n",
      "R2 score               :  19.39 %\n",
      "Mean Relative Error (%):  26.6 %\n",
      "Tuning: C = 0.1, gamma = 10\n",
      "R2 score               :  2.91 %\n",
      "Mean Relative Error (%):  33.24 %\n",
      "\n",
      "Tuning: C = 1.0, gamma = 0.1\n",
      "R2 score               :  51.78 %\n",
      "Mean Relative Error (%):  15.45 %\n",
      "Tuning: C = 1.0, gamma = 1.0\n",
      "R2 score               :  56.41 %\n",
      "Mean Relative Error (%):  15.7 %\n",
      "Tuning: C = 1.0, gamma = 10\n",
      "R2 score               :  18.55 %\n",
      "Mean Relative Error (%):  26.5 %\n",
      "\n",
      "Tuning: C = 1000, gamma = 0.1\n",
      "R2 score               :  84.56 %\n",
      "Mean Relative Error (%):  9.86 %\n",
      "Tuning: C = 1000, gamma = 1.0\n",
      "R2 score               :  78.31 %\n",
      "Mean Relative Error (%):  15.66 %\n",
      "Tuning: C = 1000, gamma = 10\n",
      "R2 score               :  51.73 %\n",
      "Mean Relative Error (%):  20.42 %\n",
      "\n"
     ]
    }
   ],
   "source": [
    "# LOADING BOSTON DATASET FROM MGLEARN\n",
    "x, y = mglearn.datasets.load_extended_boston()\n",
    "x_train, x_test, y_train, y_test = train_test_split(x, y, test_size=0.2, random_state=42)\n",
    "\n",
    "# Apply log transformation\n",
    "x_train = np.log1p(x_train)\n",
    "x_test  = np.log1p(x_test)\n",
    "\n",
    "for C in [0.1, 1.0, 1000]:\n",
    "    for gamma in [0.1, 1.0, 10]:\n",
    "        svm_model = svm.SVR(kernel='rbf', C=C, gamma=gamma)\n",
    "        svm_model.fit(x_train, y_train)\n",
    "        y_pred = svm_model.predict(x_test)\n",
    "        print(f\"Tuning: C = {C}, gamma = {gamma}\")\n",
    "        print(\"R2 score               : \", round(r2_score(y_test, y_pred)*100, 2),\"%\")\n",
    "        print(\"Mean Relative Error (%): \", round(np.mean(np.abs((y_test - y_pred) / y_test)) * 100, 2),\"%\")\n",
    "    print(\"\")"
   ]
  },
  {
   "cell_type": "code",
   "execution_count": 3,
   "id": "ca86ab28",
   "metadata": {},
   "outputs": [
    {
     "name": "stdout",
     "output_type": "stream",
     "text": [
      "Dataset: *** BOSTON DATASET ***\n",
      "LINEAR MODEL\n",
      "R2 score               :  0.73\n",
      "Mean Relative Error (%):  13.55\n",
      "\n",
      "RBF MODEL\n",
      "R2 score               :  0.56\n",
      "Mean Relative Error (%):  16.6\n",
      "\n",
      "POLY MODEL\n",
      "R2 score               :  0.67\n",
      "Mean Relative Error (%):  13.97\n",
      "\n",
      "Dataset: *** WAVES DATASET ***\n",
      "LINEAR MODEL\n",
      "R2 score               :  0.65\n",
      "Mean Relative Error (%):  93.25\n",
      "\n",
      "RBF MODEL\n",
      "R2 score               :  0.65\n",
      "Mean Relative Error (%):  99.75\n",
      "\n",
      "POLY MODEL\n",
      "R2 score               :  0.45\n",
      "Mean Relative Error (%):  75.83\n",
      "\n"
     ]
    }
   ],
   "source": [
    "# QUESTION 5\n",
    "# BOSTON DATASET\n",
    "x, y = mglearn.datasets.load_extended_boston()\n",
    "x_train1, x_test1, y_train1, y_test1 = train_test_split(x, y, test_size=0.4, random_state=42)\n",
    "# WAVE DATASET\n",
    "x, y = mglearn.datasets.make_wave(n_samples=100)\n",
    "x_train2, x_test2, y_train2, y_test2 = train_test_split(x, y, test_size=0.4, random_state=42)\n",
    "\n",
    "datasets = [ (\"*** BOSTON DATASET ***\", x_train1, x_test1, y_train1, y_test1),\n",
    "             (\"*** WAVES DATASET ***\", x_train2, x_test2, y_train2, y_test2) ]\n",
    "\n",
    "for dataset_name, x_train, x_test, y_train, y_test in datasets:\n",
    "    print(f\"Dataset: {dataset_name}\")\n",
    "    for kernel in ['linear', 'rbf', 'poly']:\n",
    "        print(kernel.upper() + ' MODEL')\n",
    "        svm_model = svm.SVR(kernel=kernel)\n",
    "        svm_model.fit(x_train, y_train)\n",
    "        y_pred = svm_model.predict(x_test)\n",
    "        print(\"R2 score               : \", round(r2_score(y_test, y_pred), 2))\n",
    "        print(\"Mean Relative Error (%): \", round(np.mean(np.abs((y_test - y_pred) / y_test)) * 100, 2))\n",
    "        print(\"\")"
   ]
  },
  {
   "cell_type": "code",
   "execution_count": null,
   "id": "1792e26d",
   "metadata": {},
   "outputs": [],
   "source": []
  },
  {
   "cell_type": "code",
   "execution_count": null,
   "id": "cd2c860a",
   "metadata": {},
   "outputs": [],
   "source": []
  }
 ],
 "metadata": {
  "kernelspec": {
   "display_name": "Python 3 (ipykernel)",
   "language": "python",
   "name": "python3"
  },
  "language_info": {
   "codemirror_mode": {
    "name": "ipython",
    "version": 3
   },
   "file_extension": ".py",
   "mimetype": "text/x-python",
   "name": "python",
   "nbconvert_exporter": "python",
   "pygments_lexer": "ipython3",
   "version": "3.9.7"
  }
 },
 "nbformat": 4,
 "nbformat_minor": 5
}
