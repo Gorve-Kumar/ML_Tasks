{
 "cells": [
  {
   "cell_type": "code",
   "execution_count": 2,
   "id": "a6295d67",
   "metadata": {},
   "outputs": [],
   "source": [
    "import numpy as np\n",
    "import matplotlib as mpl\n",
    "import matplotlib.pyplot as plt\n",
    "\n",
    "from sklearn.datasets import fetch_openml\n",
    "from sklearn.model_selection import train_test_split\n",
    "\n",
    "from sklearn.neighbors import KNeighborsClassifier\n",
    "from sklearn.multioutput import MultiOutputClassifier\n",
    "\n",
    "from sklearn.metrics import accuracy_score, f1_score\n",
    "from sklearn.model_selection import cross_val_predict"
   ]
  },
  {
   "cell_type": "code",
   "execution_count": 4,
   "id": "528f7f11",
   "metadata": {},
   "outputs": [
    {
     "data": {
      "text/plain": [
       "dict_keys(['data', 'target', 'frame', 'categories', 'feature_names', 'target_names', 'DESCR', 'details', 'url'])"
      ]
     },
     "execution_count": 4,
     "metadata": {},
     "output_type": "execute_result"
    }
   ],
   "source": [
    "mnist = fetch_openml('mnist_784', version=1)\n",
    "mnist.keys()"
   ]
  },
  {
   "cell_type": "code",
   "execution_count": 5,
   "id": "678e43ad",
   "metadata": {},
   "outputs": [
    {
     "name": "stdout",
     "output_type": "stream",
     "text": [
      "(70000, 784)\n"
     ]
    }
   ],
   "source": [
    "X, y = mnist[\"data\"], mnist[\"target\"]\n",
    "print(X.shape)"
   ]
  },
  {
   "cell_type": "code",
   "execution_count": 5,
   "id": "afb90d81",
   "metadata": {},
   "outputs": [
    {
     "data": {
      "image/png": "[encoded data removed]",
      "text/plain": [
       "<Figure size 432x288 with 1 Axes>"
      ]
     },
     "metadata": {
      "needs_background": "light"
     },
     "output_type": "display_data"
    }
   ],
   "source": [
    "some_digit = X.iloc[0]\n",
    "some_digit_image = some_digit.values.reshape(28, 28)\n",
    "plt.imshow(some_digit_image, cmap = mpl.cm.binary, interpolation=\"nearest\")\n",
    "plt.axis(\"off\")\n",
    "plt.show()"
   ]
  },
  {
   "cell_type": "code",
   "execution_count": 6,
   "id": "e81389ef",
   "metadata": {},
   "outputs": [],
   "source": [
    "# 60000 > 30000\n",
    "X_train, X_test, y_train, y_test = X[:30000], X[30000:], y[:30000], y[30000:]"
   ]
  },
  {
   "cell_type": "code",
   "execution_count": 8,
   "id": "e1d99879",
   "metadata": {},
   "outputs": [
    {
     "data": {
      "text/plain": [
       "array([[False,  True]])"
      ]
     },
     "execution_count": 8,
     "metadata": {},
     "output_type": "execute_result"
    }
   ],
   "source": [
    "y_train_large = (y_train.astype(float) >= 7)\n",
    "y_train_odd = (y_train.astype(float) % 2 == 1)\n",
    "y_multilabel = np.c_[y_train_large, y_train_odd]\n",
    "\n",
    "knn_clf = KNeighborsClassifier(n_neighbors=3)\n",
    "knn_clf.fit(X_train, y_multilabel)\n",
    "knn_clf.predict([some_digit])"
   ]
  },
  {
   "cell_type": "code",
   "execution_count": 9,
   "id": "8b0f2d3b",
   "metadata": {},
   "outputs": [
    {
     "data": {
      "text/plain": [
       "0.9714034018628375"
      ]
     },
     "execution_count": 9,
     "metadata": {},
     "output_type": "execute_result"
    }
   ],
   "source": [
    "y_train_knn_pred = cross_val_predict(knn_clf, X_train, y_multilabel, cv=3)\n",
    "f1_score(y_multilabel, y_train_knn_pred, average=\"macro\")"
   ]
  },
  {
   "cell_type": "code",
   "execution_count": 10,
   "id": "6ffb9ada",
   "metadata": {},
   "outputs": [
    {
     "data": {
      "image/png": "[encoded data removed]",
      "text/plain": [
       "<Figure size 432x288 with 2 Axes>"
      ]
     },
     "metadata": {
      "needs_background": "light"
     },
     "output_type": "display_data"
    }
   ],
   "source": [
    "noise = np.random.randint(0, 100, (len(X_train), 784))\n",
    "X_train_mod = X_train + noise\n",
    "noise = np.random.randint(0, 100, (len(X_test), 784))\n",
    "X_test_mod = X_test + noise\n",
    "y_train_mod = X_train\n",
    "y_test_mod = X_test\n",
    "def plot_digit(data):\n",
    "    image = data.reshape(28, 28)\n",
    "    plt.imshow(image, cmap = mpl.cm.binary, interpolation=\"nearest\")\n",
    "    plt.axis(\"off\")\n",
    "some_index = 4\n",
    "plt.subplot(121); plot_digit(X_test_mod.iloc[some_index].values)\n",
    "plt.subplot(122); plot_digit(y_test_mod.iloc[some_index].values)\n",
    "plt.show()"
   ]
  },
  {
   "cell_type": "code",
   "execution_count": 11,
   "id": "fccbab13",
   "metadata": {},
   "outputs": [
    {
     "data": {
      "image/png": "[encoded data removed]",
      "text/plain": [
       "<Figure size 432x288 with 1 Axes>"
      ]
     },
     "metadata": {
      "needs_background": "light"
     },
     "output_type": "display_data"
    }
   ],
   "source": [
    "knn_clf.fit(X_train_mod, y_train_mod)\n",
    "clean_digit = knn_clf.predict([X_test_mod.iloc[some_index]])\n",
    "plot_digit(clean_digit)\n",
    "plt.show()"
   ]
  },
  {
   "cell_type": "code",
   "execution_count": 7,
   "id": "17c2144e",
   "metadata": {},
   "outputs": [
    {
     "name": "stderr",
     "output_type": "stream",
     "text": [
      "C:\\Users\\happy\\anaconda3\\lib\\site-packages\\pandas\\core\\arrays\\categorical.py:528: RuntimeWarning: invalid value encountered in cast\n",
      "  fill_value = lib.item_from_zerodim(np.array(np.nan).astype(dtype))\n"
     ]
    },
    {
     "name": "stdout",
     "output_type": "stream",
     "text": [
      "Accuracy: 0.964925\n",
      "F1 Score: 0.9791006442733464\n"
     ]
    }
   ],
   "source": [
    "# EXERCISE 2:\n",
    "X, y = mnist[\"data\"], mnist[\"target\"]\n",
    "y = y.astype(int) # Convert target labels to integers\n",
    "# Create the target labels for multi-label classification\n",
    "y_small = (y < 5)\n",
    "y_even = (y % 2 == 0)\n",
    "y_prime = np.zeros_like(y, dtype=bool)\n",
    "\n",
    "for i, label in enumerate(y):\n",
    "    if label in [2, 3, 5, 7]:\n",
    "        y_prime[i] = True\n",
    "        \n",
    "y_multilabel = np.c_[y_small, y_even, y_prime] # multi-label array\n",
    "\n",
    "X_train, X_test, y_train, y_test = X[:30000], X[30000:], y_multilabel[:30000], y_multilabel[30000:]\n",
    "\n",
    "knn_clf = KNeighborsClassifier(n_neighbors=3)\n",
    "knn_clf.fit(X_train, y_train)\n",
    "y_pred = knn_clf.predict(X_test)\n",
    "\n",
    "print(\"Accuracy:\", accuracy_score(y_test, y_pred))\n",
    "print(\"F1 Score:\", f1_score(y_test, y_pred, average=\"macro\"))"
   ]
  },
  {
   "cell_type": "code",
   "execution_count": null,
   "id": "7e15a677",
   "metadata": {},
   "outputs": [],
   "source": [
    "# EXERCISE 3:\n",
    "import numpy as np\n",
    "import matplotlib.pyplot as plt\n",
    "from sklearn.datasets import fetch_openml\n",
    "from sklearn.multioutput import MultiOutputClassifier\n",
    "from sklearn.neighbors import KNeighborsClassifier\n",
    "from sklearn.decomposition import PCA\n",
    "\n",
    "# Load MNIST dataset\n",
    "mnist = fetch_openml('mnist_784', version=1)\n",
    "X, y = mnist[\"data\"], mnist[\"target\"]\n",
    "noise = np.random.randint(0, 100, X.shape)\n",
    "X_noisy = X + noise\n",
    "\n",
    "# Create training and test sets\n",
    "X_train, X_test, y_train, y_test = X_noisy[:6000], X_noisy[6000:7000], X[:6000], X[6000:7000]\n",
    "\n",
    "# Apply PCA\n",
    "pca = PCA(n_components=0.95)\n",
    "X_train_reduced = pca.fit_transform(X_train)\n",
    "X_test_reduced = pca.transform(X_test)\n",
    "\n",
    "# Train the classifier\n",
    "knn_clf = MultiOutputClassifier(KNeighborsClassifier(n_neighbors=3))\n",
    "knn_clf.fit(X_train_reduced, y_train)\n",
    "\n",
    "# Clean the images in the test dataset\n",
    "X_test_cleaned = knn_clf.predict(X_test_reduced)\n",
    "\n",
    "# Print out the cleaned images\n",
    "for i in range(10):  # Change the range according to the number of images you want to print\n",
    "    original_image = X_test[i].reshape(28, 28)\n",
    "    cleaned_image = X_test_cleaned[i].reshape(28, 28)\n",
    "\n",
    "    plt.subplot(1, 2, 1)\n",
    "    plt.imshow(original_image, cmap='gray')\n",
    "    plt.title(\"Original Image\")\n",
    "\n",
    "    plt.subplot(1, 2, 2)\n",
    "    plt.imshow(cleaned_image, cmap='gray')\n",
    "    plt.title(\"Cleaned Image\")\n",
    "\n",
    "    plt.show()"
   ]
  },
  {
   "cell_type": "code",
   "execution_count": null,
   "id": "7e778af1",
   "metadata": {},
   "outputs": [],
   "source": [
    "'''n_images = 5\n",
    "plt.figure(figsize=(10, 4))\n",
    "for i in range(n_images):\n",
    "    plt.subplot(2, n_images, i + 1)\n",
    "    plt.imshow(X_test[i].reshape(28, 28), cmap='binary')\n",
    "    plt.axis('off')\n",
    "    plt.subplot(2, n_images, i + n_images + 1)\n",
    "    plt.imshow(y_pred[i].reshape(28, 28), cmap='binary')\n",
    "    plt.axis('off')\n",
    "plt.tight_layout()\n",
    "plt.show()'''"
   ]
  },
  {
   "cell_type": "code",
   "execution_count": 15,
   "id": "08b9fcc0",
   "metadata": {},
   "outputs": [
    {
     "name": "stdout",
     "output_type": "stream",
     "text": [
      "Accuracy: 0.962125\n",
      "F1 Score: 0.9555396545257662\n"
     ]
    }
   ],
   "source": [
    "# QUESTION 4:\n",
    "letter_data = fetch_openml('letter', version=1)\n",
    "X, y = letter_data[\"data\"], letter_data[\"target\"]\n",
    "\n",
    "y = y.astype(str).str.upper()\n",
    "\n",
    "small_letters = ['A', 'B', 'C', 'D', 'E', 'F', 'G', 'H']\n",
    "vowels = ['A', 'E', 'I', 'O', 'U']\n",
    "\n",
    "y_small = np.isin(y, small_letters)\n",
    "y_vowel = np.isin(y, vowels)\n",
    "y_multilabel = np.column_stack((y_small, y_vowel))\n",
    "\n",
    "X_train, X_test, y_train, y_test = train_test_split(X, y_multilabel, test_size=0.4, random_state=42)\n",
    "\n",
    "knn_clf = KNeighborsClassifier(n_neighbors=3)\n",
    "knn_clf.fit(X_train, y_train)\n",
    "y_pred = knn_clf.predict(X_test)\n",
    "\n",
    "print(\"Accuracy:\", accuracy_score(y_test, y_pred))\n",
    "print(\"F1 Score:\", f1_score(y_test, y_pred, average=\"macro\"))\n"
   ]
  },
  {
   "cell_type": "code",
   "execution_count": null,
   "id": "6a85f5aa",
   "metadata": {},
   "outputs": [],
   "source": []
  },
  {
   "cell_type": "code",
   "execution_count": null,
   "id": "083a408f",
   "metadata": {},
   "outputs": [],
   "source": []
  }
 ],
 "metadata": {
  "kernelspec": {
   "display_name": "Python 3 (ipykernel)",
   "language": "python",
   "name": "python3"
  },
  "language_info": {
   "codemirror_mode": {
    "name": "ipython",
    "version": 3
   },
   "file_extension": ".py",
   "mimetype": "text/x-python",
   "name": "python",
   "nbconvert_exporter": "python",
   "pygments_lexer": "ipython3",
   "version": "3.9.7"
  }
 },
 "nbformat": 4,
 "nbformat_minor": 5
}
