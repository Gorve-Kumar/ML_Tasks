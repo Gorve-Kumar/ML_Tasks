{
 "cells": [
  {
   "cell_type": "code",
   "execution_count": 2,
   "id": "9cc7a635",
   "metadata": {},
   "outputs": [
    {
     "data": {
      "text/plain": [
       "array([ 1,  3,  9, 12, 18])"
      ]
     },
     "execution_count": 2,
     "metadata": {},
     "output_type": "execute_result"
    }
   ],
   "source": [
    "import numpy as np\n",
    "\n",
    "data1 = np.array([1,3,9,12,18])\n",
    "data1"
   ]
  },
  {
   "cell_type": "code",
   "execution_count": 3,
   "id": "ad4740a8",
   "metadata": {},
   "outputs": [
    {
     "data": {
      "text/plain": [
       "array([[1, 5, 2, 0],\n",
       "       [3, 6, 4, 7]])"
      ]
     },
     "execution_count": 3,
     "metadata": {},
     "output_type": "execute_result"
    }
   ],
   "source": [
    "data2 = np.array([[1, 5, 2, 0],[3, 6, 4, 7]])\n",
    "data2"
   ]
  },
  {
   "cell_type": "code",
   "execution_count": 4,
   "id": "6dc39c03",
   "metadata": {},
   "outputs": [
    {
     "data": {
      "text/plain": [
       "array([['7', '6'],\n",
       "       ['5', '4'],\n",
       "       ['3', '2']], dtype='<U1')"
      ]
     },
     "execution_count": 4,
     "metadata": {},
     "output_type": "execute_result"
    }
   ],
   "source": [
    "data3 = np.array([['7', '6'],['5', '4'], ['3', '2']])\n",
    "data3"
   ]
  },
  {
   "cell_type": "code",
   "execution_count": 5,
   "id": "e46ef029",
   "metadata": {},
   "outputs": [
    {
     "data": {
      "text/plain": [
       "array([[11, 52, 20, 50],\n",
       "       [34, 61, 43, 17]])"
      ]
     },
     "execution_count": 5,
     "metadata": {},
     "output_type": "execute_result"
    }
   ],
   "source": [
    "data4 = np.array([[11, 52, 20, 50], [34, 61, 43, 17]])\n",
    "data4"
   ]
  },
  {
   "cell_type": "code",
   "execution_count": 6,
   "id": "0114fc28",
   "metadata": {},
   "outputs": [
    {
     "data": {
      "text/plain": [
       "array([ 10,  30,  90, 120, 180])"
      ]
     },
     "execution_count": 6,
     "metadata": {},
     "output_type": "execute_result"
    }
   ],
   "source": [
    "answer_add = np.add(data1, data1)\n",
    "answer_mul = np.multiply(data1, 10)\n",
    "answer_add\n",
    "answer_mul"
   ]
  },
  {
   "cell_type": "code",
   "execution_count": 11,
   "id": "30906dfd",
   "metadata": {},
   "outputs": [
    {
     "name": "stdout",
     "output_type": "stream",
     "text": [
      "DATA 1:  int64\n",
      "DATA 2:  int64\n",
      "DATA 3:  int64\n",
      "DATA 4:  int64\n"
     ]
    }
   ],
   "source": [
    "data1 = data1.astype('int64')\n",
    "print(\"DATA 1: \", data1.dtype)\n",
    "data2 = data2.astype('int64')\n",
    "print(\"DATA 2: \", data2.dtype)\n",
    "data3 = data3.astype('int64')\n",
    "print(\"DATA 3: \", data3.dtype)\n",
    "data4 = data4.astype('int64')\n",
    "print(\"DATA 4: \", data4.dtype)"
   ]
  },
  {
   "cell_type": "code",
   "execution_count": 16,
   "id": "12dc2cf1",
   "metadata": {},
   "outputs": [
    {
     "name": "stdout",
     "output_type": "stream",
     "text": [
      "[[0. 0. 0. 0. 0.]\n",
      " [0. 0. 0. 0. 0.]\n",
      " [0. 0. 0. 0. 0.]]\n",
      "[[1. 1. 1. 1. 1. 1. 1. 1.]\n",
      " [1. 1. 1. 1. 1. 1. 1. 1.]]\n",
      "[[8 0 3]\n",
      " [4 3 7]\n",
      " [6 2 7]\n",
      " [7 5 9]\n",
      " [6 6 7]\n",
      " [6 4 6]]\n"
     ]
    }
   ],
   "source": [
    "zero_array = np.zeros((3, 5))\n",
    "ones_array = np.ones((2, 8))\n",
    "random_array = np.random.randint(high=10, low=0, size=(6, 3))\n",
    "print(zero_array)\n",
    "print(ones_array)\n",
    "print(random_array)"
   ]
  },
  {
   "cell_type": "code",
   "execution_count": null,
   "id": "52b4faf0",
   "metadata": {},
   "outputs": [],
   "source": []
  }
 ],
 "metadata": {
  "kernelspec": {
   "display_name": "Python 3 (ipykernel)",
   "language": "python",
   "name": "python3"
  },
  "language_info": {
   "codemirror_mode": {
    "name": "ipython",
    "version": 3
   },
   "file_extension": ".py",
   "mimetype": "text/x-python",
   "name": "python",
   "nbconvert_exporter": "python",
   "pygments_lexer": "ipython3",
   "version": "3.9.7"
  }
 },
 "nbformat": 4,
 "nbformat_minor": 5
}
